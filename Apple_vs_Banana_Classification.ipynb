{
  "nbformat": 4,
  "nbformat_minor": 0,
  "metadata": {
    "colab": {
      "name": "Apple vs Banana Classification.ipynb",
      "provenance": [],
      "mount_file_id": "16fE5xbvVgh21YSafRGwiGBqApdY2ESve",
      "authorship_tag": "ABX9TyOS7PITPe/CgFAR6t2M8My8",
      "include_colab_link": true
    },
    "kernelspec": {
      "name": "python3",
      "display_name": "Python 3"
    }
  },
  "cells": [
    {
      "cell_type": "markdown",
      "metadata": {
        "id": "view-in-github",
        "colab_type": "text"
      },
      "source": [
        "<a href=\"https://colab.research.google.com/github/Rajiv710/Mini-Project/blob/main/Apple_vs_Banana_Classification.ipynb\" target=\"_parent\"><img src=\"https://colab.research.google.com/assets/colab-badge.svg\" alt=\"Open In Colab\"/></a>"
      ]
    },
    {
      "cell_type": "markdown",
      "metadata": {
        "id": "aabbn1cAIPNA"
      },
      "source": [
        "# Apple vs Banana Classification\n"
      ]
    },
    {
      "cell_type": "markdown",
      "metadata": {
        "id": "yC2O5DcYIfgZ"
      },
      "source": [
        "Downloading Images"
      ]
    },
    {
      "cell_type": "code",
      "metadata": {
        "id": "i7SLowK43ixt",
        "outputId": "2d813133-bdd1-48c8-cfeb-04e86987913d",
        "colab": {
          "base_uri": "https://localhost:8080/",
          "height": 107
        }
      },
      "source": [
        "!pip install bing-image-downloader"
      ],
      "execution_count": 36,
      "outputs": [
        {
          "output_type": "stream",
          "text": [
            "Collecting bing-image-downloader\n",
            "  Downloading https://files.pythonhosted.org/packages/0d/bf/537a61030b84ae4cd5022d5c7b014fd9bc3ce7c02358919153a6658a61d3/bing_image_downloader-1.0.4-py3-none-any.whl\n",
            "Installing collected packages: bing-image-downloader\n",
            "Successfully installed bing-image-downloader-1.0.4\n"
          ],
          "name": "stdout"
        }
      ]
    },
    {
      "cell_type": "code",
      "metadata": {
        "id": "XGWbweZv8OMs"
      },
      "source": [
        "import bing_image_downloader "
      ],
      "execution_count": 37,
      "outputs": []
    },
    {
      "cell_type": "code",
      "metadata": {
        "id": "DWkStC0n8RIM",
        "outputId": "2119e42e-b969-40c0-b3be-b030db6ec2de",
        "colab": {
          "base_uri": "https://localhost:8080/",
          "height": 34
        }
      },
      "source": [
        "cd /content/drive/My Drive/DataSet"
      ],
      "execution_count": 38,
      "outputs": [
        {
          "output_type": "stream",
          "text": [
            "/content/drive/My Drive/DataSet\n"
          ],
          "name": "stdout"
        }
      ]
    },
    {
      "cell_type": "code",
      "metadata": {
        "id": "3t1wa5ZW-3cP"
      },
      "source": [
        "!mkdir fruits"
      ],
      "execution_count": null,
      "outputs": []
    },
    {
      "cell_type": "code",
      "metadata": {
        "id": "fTT2w9b0-6MC",
        "outputId": "8a3fca26-d566-4c32-808e-3e414085605e",
        "colab": {
          "base_uri": "https://localhost:8080/",
          "height": 1000
        }
      },
      "source": [
        "from bing_image_downloader import downloader\n",
        "downloader.download('apple',limit = 30, output_dir = 'fruits')"
      ],
      "execution_count": 39,
      "outputs": [
        {
          "output_type": "stream",
          "text": [
            "\n",
            "\n",
            "[!!]Indexing page: 1\n",
            "\n",
            "[%] Indexed 30 Images on Page 1.\n",
            "\n",
            "===============================================\n",
            "\n",
            "[%] Downloading Image #1 from http://dreamicus.com/data/apple/apple-05.jpg\n",
            "[%] File Downloaded !\n",
            "\n",
            "[%] Downloading Image #2 from https://upload.wikimedia.org/wikipedia/commons/thumb/e/ea/Bigapple.jpg/1200px-Bigapple.jpg\n",
            "[%] File Downloaded !\n",
            "\n",
            "[%] Downloading Image #3 from https://i.ytimg.com/vi/YFaG768v5Ok/maxresdefault.jpg\n",
            "[%] File Downloaded !\n",
            "\n",
            "[%] Downloading Image #4 from http://religionnerd.com/wp-content/uploads/2010/07/apple-apple-II.jpg\n",
            "[%] File Downloaded !\n",
            "\n",
            "[%] Downloading Image #5 from https://upload.wikimedia.org/wikipedia/commons/c/c6/Chicago-AppleStore.jpg\n",
            "[%] File Downloaded !\n",
            "\n",
            "[%] Downloading Image #6 from http://mcgreevycakes.com/wp-content/uploads/2016/06/square-apple-.png\n",
            "[%] File Downloaded !\n",
            "\n",
            "[%] Downloading Image #7 from https://www.mygourmetconnection.com/wp-content/uploads/a-guide-to-apple-varieties.jpg\n",
            "[%] File Downloaded !\n",
            "\n",
            "[%] Downloading Image #8 from https://cdn.shopify.com/s/files/1/0206/9470/files/Gala_Apple_1024px.jpg?3906148106781866849\n",
            "[%] File Downloaded !\n",
            "\n",
            "[%] Downloading Image #9 from http://upload.wikimedia.org/wikipedia/commons/1/15/Red_Apple.jpg\n",
            "[%] File Downloaded !\n",
            "\n",
            "[%] Downloading Image #10 from http://vq.vassar.edu/issues/2012/03/images/apple.jpg\n",
            "[%] File Downloaded !\n",
            "\n",
            "[%] Downloading Image #11 from https://images.idgesg.net/images/article/2019/08/innovation-apple-invite-100809655-large.jpg\n",
            "[%] File Downloaded !\n",
            "\n",
            "[%] Downloading Image #12 from https://www.howtogeek.com/thumbcache/2/200/dc707918be3da97b10f9c674042d9b3b/wp-content/uploads/2019/11/apple-watch-app-grid-pressing-digital-crown.jpg\n",
            "[%] File Downloaded !\n",
            "\n",
            "[%] Downloading Image #13 from http://ww1.prweb.com/prfiles/2013/01/22/10349485/gI_119084_apple_heart.jpg\n",
            "[%] File Downloaded !\n",
            "\n",
            "[%] Downloading Image #14 from http://cdn.cultofmac.com/wp-content/uploads/2014/01/BdZj7JvCUAA0ptS.jpg-large.jpg\n",
            "[%] File Downloaded !\n",
            "\n",
            "[%] Downloading Image #15 from https://www.setaswall.com/wp-content/uploads/2018/05/Apple-Fruit-Grass-Wallpaper-720x1520.jpg\n",
            "[%] File Downloaded !\n",
            "\n",
            "[%] Downloading Image #16 from https://bestapples.com/wp-content/uploads/2018/01/cameo-apple.jpg\n",
            "[%] File Downloaded !\n",
            "\n",
            "[%] Downloading Image #17 from https://cdn.iphoneincanada.ca/wp-content/uploads/2020/06/Apple_ios14-app-library-screen_06222020.jpg\n",
            "[%] File Downloaded !\n",
            "\n",
            "[%] Downloading Image #18 from http://crazy-frankenstein.com/free-wallpapers-files/food/apple-wallpapers/red-on-tree-apple-wallpapers-1024x768.jpg\n",
            "[%] File Downloaded !\n",
            "\n",
            "[%] Downloading Image #19 from https://images.idgesg.net/images/article/2017/09/apple_event_watch_lte-100735458-large.jpg\n",
            "[%] File Downloaded !\n",
            "\n",
            "[%] Downloading Image #20 from https://banner2.cleanpng.com/20181108/zql/kisspng-apple-food-fruit-rose-family-portable-network-grap-5be4f82f09e458.7742764015417323990405.jpg\n",
            "[%] File Downloaded !\n",
            "\n",
            "[%] Downloading Image #21 from https://cdn.osxdaily.com/wp-content/uploads/2016/08/apple-sept-7-2016-event-ipad-wallpaper.jpg\n",
            "[%] File Downloaded !\n",
            "\n",
            "[%] Downloading Image #22 from https://www.thegunnysack.com/wp-content/uploads/2015/10/Caramel-Apple-Cupcake-On-A-Stick.jpg\n",
            "[%] File Downloaded !\n",
            "\n",
            "[%] Downloading Image #23 from http://blog.mass.gov/wp-content/uploads/2015/09/Apple-Orchard.jpg\n",
            "[%] File Downloaded !\n",
            "\n",
            "[%] Downloading Image #24 from https://upload.wikimedia.org/wikipedia/commons/thumb/e/ee/Shiny_red_apple.svg/1200px-Shiny_red_apple.svg.png\n",
            "[%] File Downloaded !\n",
            "\n",
            "[%] Downloading Image #25 from https://qualitymart201568.com/images/l=SHUIMOHUAs=00569A1-3e=AG1370625.pic?w=800&amp;h=800&amp;t=1556762931927\n",
            "[%] File Downloaded !\n",
            "\n",
            "[%] Downloading Image #26 from https://cdn.iphoneincanada.ca/wp-content/uploads/2012/09/IMG_1469.jpg\n",
            "[%] File Downloaded !\n",
            "\n",
            "[%] Downloading Image #27 from https://images.idgesg.net/images/article/2019/09/apple-logo-colors-01-100810554-large.jpg\n",
            "[%] File Downloaded !\n",
            "\n",
            "[%] Downloading Image #28 from https://images.idgesg.net/images/article/2018/12/apple-products-2018-100782368-large.jpg\n",
            "[%] File Downloaded !\n",
            "\n",
            "[%] Downloading Image #29 from https://www.thegunnysack.com/wp-content/uploads/2016/03/Apple-Fruit-Basket-Recipe.jpg\n",
            "[%] File Downloaded !\n",
            "\n",
            "[%] Downloading Image #30 from https://i.ytimg.com/vi/ieuWphaYEPY/maxresdefault.jpg\n",
            "[%] File Downloaded !\n",
            "\n"
          ],
          "name": "stdout"
        }
      ]
    },
    {
      "cell_type": "code",
      "metadata": {
        "id": "jZI2Gnr8A3DY",
        "outputId": "71c0c278-41e0-49f7-a1c4-da973d8ee0ae",
        "colab": {
          "base_uri": "https://localhost:8080/",
          "height": 1000
        }
      },
      "source": [
        "downloader.download('banana',limit = 30, output_dir = 'fruits')\n"
      ],
      "execution_count": 40,
      "outputs": [
        {
          "output_type": "stream",
          "text": [
            "\n",
            "\n",
            "[!!]Indexing page: 1\n",
            "\n",
            "[%] Indexed 30 Images on Page 1.\n",
            "\n",
            "===============================================\n",
            "\n",
            "[%] Downloading Image #1 from https://loe.org/content/2014-04-18/10-bananabunch.gif\n",
            "[%] File Downloaded !\n",
            "\n",
            "[%] Downloading Image #2 from https://www.mariowiki.com/images/1/17/BananaDKCR.png\n",
            "[%] File Downloaded !\n",
            "\n",
            "[%] Downloading Image #3 from https://ohsweetbasil.com/wp-content/uploads/nutella-stuffed-chocolate-banana-muffins-700x1050.jpg\n",
            "[%] File Downloaded !\n",
            "\n",
            "[%] Downloading Image #4 from https://pixnio.com/free-images/flora-plants/fruits/banana-pictures/close-up-view-of-a-number-of-ripe-bananas-on-market.jpg\n",
            "[%] File Downloaded !\n",
            "\n",
            "[%] Downloading Image #5 from http://econogirl.files.wordpress.com/2011/08/banana.jpg\n",
            "[%] File Downloaded !\n",
            "\n",
            "[%] Downloading Image #6 from https://growables.org/information/TropicalFruit/images/BananaStarr.jpg\n",
            "[%] File Downloaded !\n",
            "\n",
            "[%] Downloading Image #7 from https://www.jasminealimentos.com/wp-content/uploads/2017/11/banana.jpg\n",
            "[%] File Downloaded !\n",
            "\n",
            "[%] Downloading Image #8 from http://jaysbrewingblog.files.wordpress.com/2011/10/banana.jpg\n",
            "[%] File Downloaded !\n",
            "\n",
            "[%] Downloading Image #9 from https://weknowyourdreams.com/images/banana/banana-10.jpg\n",
            "[!] Issue getting: https://weknowyourdreams.com/images/banana/banana-10.jpg\n",
            "[!] Error:: <urlopen error [SSL: CERTIFICATE_VERIFY_FAILED] certificate verify failed (_ssl.c:852)>\n",
            "[%] Downloading Image #9 from https://www.thetreecenter.com/wp-content/uploads/dwarf-cavendish-banana-1.jpg\n",
            "[%] File Downloaded !\n",
            "\n",
            "[%] Downloading Image #10 from https://upload.wikimedia.org/wikipedia/commons/thumb/b/bc/Banana_%28partially_peeled%29.jpg/220px-Banana_%28partially_peeled%29.jpg\n",
            "[%] File Downloaded !\n",
            "\n",
            "[%] Downloading Image #11 from https://upload.wikimedia.org/wikipedia/commons/thumb/5/57/Plantains.jpg/1920px-Plantains.jpg\n",
            "[%] File Downloaded !\n",
            "\n",
            "[%] Downloading Image #12 from http://2.bp.blogspot.com/-pU8BDUCR3Sg/UDZQmt4IcdI/AAAAAAAAACA/T5rq7xIKLek/s1600/Banana.png\n",
            "[%] File Downloaded !\n",
            "\n",
            "[%] Downloading Image #13 from https://culturaldetective.files.wordpress.com/2014/11/banana.jpg\n",
            "[%] File Downloaded !\n",
            "\n",
            "[%] Downloading Image #14 from https://www.infoescola.com/wp-content/uploads/2010/04/banana_600797891.jpg\n",
            "[%] File Downloaded !\n",
            "\n",
            "[%] Downloading Image #15 from https://secure.i.telegraph.co.uk/multimedia/archive/02975/banana_2975610b.jpg\n",
            "[%] File Downloaded !\n",
            "\n",
            "[%] Downloading Image #16 from http://www.healthyfoodhouse.com/wp-content/uploads/2013/04/banana-amazing-fruit-and-cure.jpg\n",
            "[%] File Downloaded !\n",
            "\n",
            "[%] Downloading Image #17 from https://img.thrfun.com/img/084/561/peeled_banana_l1.jpg\n",
            "[%] File Downloaded !\n",
            "\n",
            "[%] Downloading Image #18 from https://weknowyourdreams.com/images/banana/banana-01.jpg\n",
            "[!] Issue getting: https://weknowyourdreams.com/images/banana/banana-01.jpg\n",
            "[!] Error:: <urlopen error [SSL: CERTIFICATE_VERIFY_FAILED] certificate verify failed (_ssl.c:852)>\n",
            "[%] Downloading Image #18 from https://upload.wikimedia.org/wikipedia/commons/thumb/9/96/Banana_freckle_Pohnpei_(5680832547).jpg/1920px-Banana_freckle_Pohnpei_(5680832547).jpg\n",
            "[%] File Downloaded !\n",
            "\n",
            "[%] Downloading Image #19 from https://media.istockphoto.com/photos/peeled-banana-picture-id500539718\n",
            "[%] File Downloaded !\n",
            "\n",
            "[%] Downloading Image #20 from https://www.sciencealert.com/images/2018-07/processed/gree_ripe_banana_1024.jpg\n",
            "[%] File Downloaded !\n",
            "\n",
            "[%] Downloading Image #21 from https://cdn.britannica.com/61/175661-050-6D553500/banana-inflorescence-Thailand-bract-curls-flowers-clusters.jpg\n",
            "[%] File Downloaded !\n",
            "\n",
            "[%] Downloading Image #22 from https://cdn.britannica.com/58/194358-050-91CE9CB6/Gros-Michel-banana-tree.jpg\n",
            "[%] File Downloaded !\n",
            "\n",
            "[%] Downloading Image #23 from https://www.carolwrightgifts.com/banana-bag_89870_zoom0.jpg\n",
            "[%] File Downloaded !\n",
            "\n",
            "[%] Downloading Image #24 from https://www.hellodeborah.co.uk/app/uploads/2015/02/overripe-banana-ice-cream.jpg\n",
            "[%] File Downloaded !\n",
            "\n",
            "[%] Downloading Image #25 from https://thespicyapron.com/wp-content/uploads/2015/08/Banana-Split-3.jpg\n",
            "[%] File Downloaded !\n",
            "\n",
            "[%] Downloading Image #26 from https://askthegreengenie.com/wp-content/uploads/2017/09/banana_dwarf_cavendish_06-2015_P1010263_mod.jpg\n",
            "[%] File Downloaded !\n",
            "\n",
            "[%] Downloading Image #27 from https://www.youtotallygotthis.com/wp-content/uploads/2016/11/BBQ-Banana-Split-Portrait.jpg\n",
            "[%] File Downloaded !\n",
            "\n",
            "[%] Downloading Image #28 from https://images.hellogiggles.com/uploads/2017/09/21043537/bakedbananachips.jpg\n",
            "[%] File Downloaded !\n",
            "\n",
            "\n",
            "\n",
            "[!!]Indexing page: 2\n",
            "\n",
            "[%] Indexed 35 Images on Page 2.\n",
            "\n",
            "===============================================\n",
            "\n",
            "[%] Downloading Image #29 from https://loe.org/content/2014-04-18/10-bananabunch.gif\n",
            "[%] File Downloaded !\n",
            "\n",
            "[%] Downloading Image #30 from http://weknowyourdreams.com/images/banana/banana-02.jpg\n",
            "[%] File Downloaded !\n",
            "\n",
            "\n",
            "\n",
            "[%] Done. Downloaded 30 images.\n",
            "\n",
            "===============================================\n",
            "\n"
          ],
          "name": "stdout"
        }
      ]
    },
    {
      "cell_type": "markdown",
      "metadata": {
        "id": "qb_gd9Z5F2O5"
      },
      "source": [
        "Reading Images and converting to suitable form"
      ]
    },
    {
      "cell_type": "code",
      "metadata": {
        "id": "yMKlIvddFuI0"
      },
      "source": [
        "import numpy as np\n",
        "import matplotlib.pyplot as plt\n",
        "import pandas as pd\n",
        "import os\n",
        "\n",
        "from skimage.transform import resize\n",
        "from skimage.io import imread\n",
        "\n",
        "target = []\n",
        "images = []\n",
        "flat_data = []\n",
        "\n",
        "DATADIR = '/content/drive/My Drive/DataSet/fruits'\n",
        "CATEGORIES = ['apple','banana']\n",
        "\n",
        "for category in CATEGORIES:\n",
        "  path = os.path.join(DATADIR,category)\n",
        "  for img in os.listdir(path):\n",
        "      img_read = imread(os.path.join(path,img))\n",
        "      img_resized = resize(img_read,(200,200,3))\n",
        "      flat_data.append(img_resized.flatten())\n",
        "      images.append(img_resized)\n",
        "      target.append(category)\n",
        "\n",
        "images = np.array(images)\n",
        "flat_data = np.array(flat_data)"
      ],
      "execution_count": 1,
      "outputs": []
    },
    {
      "cell_type": "markdown",
      "metadata": {
        "id": "xRaE_JCPGL4S"
      },
      "source": [
        "Creating DataFrame"
      ]
    },
    {
      "cell_type": "code",
      "metadata": {
        "id": "WeNmVZEbfofE",
        "outputId": "63d122cf-65ad-4ea6-f206-efe3c9265285",
        "colab": {
          "base_uri": "https://localhost:8080/",
          "height": 243
        }
      },
      "source": [
        "apple_banana_df = pd.DataFrame(flat_data)\n",
        "apple_banana_df ['Target'] = target\n",
        "apple_banana_df .head()"
      ],
      "execution_count": 14,
      "outputs": [
        {
          "output_type": "execute_result",
          "data": {
            "text/html": [
              "<div>\n",
              "<style scoped>\n",
              "    .dataframe tbody tr th:only-of-type {\n",
              "        vertical-align: middle;\n",
              "    }\n",
              "\n",
              "    .dataframe tbody tr th {\n",
              "        vertical-align: top;\n",
              "    }\n",
              "\n",
              "    .dataframe thead th {\n",
              "        text-align: right;\n",
              "    }\n",
              "</style>\n",
              "<table border=\"1\" class=\"dataframe\">\n",
              "  <thead>\n",
              "    <tr style=\"text-align: right;\">\n",
              "      <th></th>\n",
              "      <th>0</th>\n",
              "      <th>1</th>\n",
              "      <th>2</th>\n",
              "      <th>3</th>\n",
              "      <th>4</th>\n",
              "      <th>5</th>\n",
              "      <th>6</th>\n",
              "      <th>7</th>\n",
              "      <th>8</th>\n",
              "      <th>9</th>\n",
              "      <th>10</th>\n",
              "      <th>11</th>\n",
              "      <th>12</th>\n",
              "      <th>13</th>\n",
              "      <th>14</th>\n",
              "      <th>15</th>\n",
              "      <th>16</th>\n",
              "      <th>17</th>\n",
              "      <th>18</th>\n",
              "      <th>19</th>\n",
              "      <th>20</th>\n",
              "      <th>21</th>\n",
              "      <th>22</th>\n",
              "      <th>23</th>\n",
              "      <th>24</th>\n",
              "      <th>25</th>\n",
              "      <th>26</th>\n",
              "      <th>27</th>\n",
              "      <th>28</th>\n",
              "      <th>29</th>\n",
              "      <th>30</th>\n",
              "      <th>31</th>\n",
              "      <th>32</th>\n",
              "      <th>33</th>\n",
              "      <th>34</th>\n",
              "      <th>35</th>\n",
              "      <th>36</th>\n",
              "      <th>37</th>\n",
              "      <th>38</th>\n",
              "      <th>39</th>\n",
              "      <th>...</th>\n",
              "      <th>119961</th>\n",
              "      <th>119962</th>\n",
              "      <th>119963</th>\n",
              "      <th>119964</th>\n",
              "      <th>119965</th>\n",
              "      <th>119966</th>\n",
              "      <th>119967</th>\n",
              "      <th>119968</th>\n",
              "      <th>119969</th>\n",
              "      <th>119970</th>\n",
              "      <th>119971</th>\n",
              "      <th>119972</th>\n",
              "      <th>119973</th>\n",
              "      <th>119974</th>\n",
              "      <th>119975</th>\n",
              "      <th>119976</th>\n",
              "      <th>119977</th>\n",
              "      <th>119978</th>\n",
              "      <th>119979</th>\n",
              "      <th>119980</th>\n",
              "      <th>119981</th>\n",
              "      <th>119982</th>\n",
              "      <th>119983</th>\n",
              "      <th>119984</th>\n",
              "      <th>119985</th>\n",
              "      <th>119986</th>\n",
              "      <th>119987</th>\n",
              "      <th>119988</th>\n",
              "      <th>119989</th>\n",
              "      <th>119990</th>\n",
              "      <th>119991</th>\n",
              "      <th>119992</th>\n",
              "      <th>119993</th>\n",
              "      <th>119994</th>\n",
              "      <th>119995</th>\n",
              "      <th>119996</th>\n",
              "      <th>119997</th>\n",
              "      <th>119998</th>\n",
              "      <th>119999</th>\n",
              "      <th>Target</th>\n",
              "    </tr>\n",
              "  </thead>\n",
              "  <tbody>\n",
              "    <tr>\n",
              "      <th>0</th>\n",
              "      <td>0.945098</td>\n",
              "      <td>0.945098</td>\n",
              "      <td>0.945098</td>\n",
              "      <td>0.945098</td>\n",
              "      <td>0.945098</td>\n",
              "      <td>0.945098</td>\n",
              "      <td>0.949020</td>\n",
              "      <td>0.949020</td>\n",
              "      <td>0.949020</td>\n",
              "      <td>0.945098</td>\n",
              "      <td>0.945098</td>\n",
              "      <td>0.945098</td>\n",
              "      <td>0.945098</td>\n",
              "      <td>0.945098</td>\n",
              "      <td>0.945098</td>\n",
              "      <td>0.947059</td>\n",
              "      <td>0.947059</td>\n",
              "      <td>0.947059</td>\n",
              "      <td>0.949020</td>\n",
              "      <td>0.949020</td>\n",
              "      <td>0.949020</td>\n",
              "      <td>0.949020</td>\n",
              "      <td>0.949020</td>\n",
              "      <td>0.949020</td>\n",
              "      <td>0.949020</td>\n",
              "      <td>0.949020</td>\n",
              "      <td>0.945098</td>\n",
              "      <td>0.947059</td>\n",
              "      <td>0.949020</td>\n",
              "      <td>0.949020</td>\n",
              "      <td>0.949020</td>\n",
              "      <td>0.949020</td>\n",
              "      <td>0.945098</td>\n",
              "      <td>0.949020</td>\n",
              "      <td>0.949020</td>\n",
              "      <td>0.949020</td>\n",
              "      <td>0.945098</td>\n",
              "      <td>0.945098</td>\n",
              "      <td>0.947059</td>\n",
              "      <td>0.949020</td>\n",
              "      <td>...</td>\n",
              "      <td>0.956863</td>\n",
              "      <td>0.956863</td>\n",
              "      <td>0.956863</td>\n",
              "      <td>0.960784</td>\n",
              "      <td>0.960784</td>\n",
              "      <td>0.960784</td>\n",
              "      <td>0.960784</td>\n",
              "      <td>0.960784</td>\n",
              "      <td>0.960784</td>\n",
              "      <td>0.960784</td>\n",
              "      <td>0.960784</td>\n",
              "      <td>0.960784</td>\n",
              "      <td>0.968627</td>\n",
              "      <td>0.968627</td>\n",
              "      <td>0.968627</td>\n",
              "      <td>0.968627</td>\n",
              "      <td>0.968627</td>\n",
              "      <td>0.968627</td>\n",
              "      <td>0.968627</td>\n",
              "      <td>0.968627</td>\n",
              "      <td>0.968627</td>\n",
              "      <td>0.968627</td>\n",
              "      <td>0.968627</td>\n",
              "      <td>0.968627</td>\n",
              "      <td>0.968627</td>\n",
              "      <td>0.968627</td>\n",
              "      <td>0.968627</td>\n",
              "      <td>0.966667</td>\n",
              "      <td>0.968627</td>\n",
              "      <td>0.968627</td>\n",
              "      <td>0.966667</td>\n",
              "      <td>0.964706</td>\n",
              "      <td>0.968627</td>\n",
              "      <td>0.964706</td>\n",
              "      <td>0.964706</td>\n",
              "      <td>0.968627</td>\n",
              "      <td>0.964706</td>\n",
              "      <td>0.964706</td>\n",
              "      <td>0.964706</td>\n",
              "      <td>apple</td>\n",
              "    </tr>\n",
              "    <tr>\n",
              "      <th>1</th>\n",
              "      <td>0.626402</td>\n",
              "      <td>0.320520</td>\n",
              "      <td>0.122196</td>\n",
              "      <td>0.623676</td>\n",
              "      <td>0.311324</td>\n",
              "      <td>0.115912</td>\n",
              "      <td>0.618431</td>\n",
              "      <td>0.307814</td>\n",
              "      <td>0.121325</td>\n",
              "      <td>0.600000</td>\n",
              "      <td>0.305410</td>\n",
              "      <td>0.116000</td>\n",
              "      <td>0.600439</td>\n",
              "      <td>0.302775</td>\n",
              "      <td>0.101096</td>\n",
              "      <td>0.622196</td>\n",
              "      <td>0.312669</td>\n",
              "      <td>0.120235</td>\n",
              "      <td>0.627500</td>\n",
              "      <td>0.320755</td>\n",
              "      <td>0.124725</td>\n",
              "      <td>0.615686</td>\n",
              "      <td>0.317647</td>\n",
              "      <td>0.122301</td>\n",
              "      <td>0.620422</td>\n",
              "      <td>0.318461</td>\n",
              "      <td>0.131023</td>\n",
              "      <td>0.631922</td>\n",
              "      <td>0.325490</td>\n",
              "      <td>0.122382</td>\n",
              "      <td>0.647059</td>\n",
              "      <td>0.334141</td>\n",
              "      <td>0.130431</td>\n",
              "      <td>0.654088</td>\n",
              "      <td>0.336441</td>\n",
              "      <td>0.145098</td>\n",
              "      <td>0.648206</td>\n",
              "      <td>0.330152</td>\n",
              "      <td>0.138402</td>\n",
              "      <td>0.639216</td>\n",
              "      <td>...</td>\n",
              "      <td>0.302775</td>\n",
              "      <td>0.081946</td>\n",
              "      <td>0.000000</td>\n",
              "      <td>0.357676</td>\n",
              "      <td>0.089382</td>\n",
              "      <td>0.000000</td>\n",
              "      <td>0.319084</td>\n",
              "      <td>0.086275</td>\n",
              "      <td>0.000000</td>\n",
              "      <td>0.342259</td>\n",
              "      <td>0.085461</td>\n",
              "      <td>0.000000</td>\n",
              "      <td>0.353755</td>\n",
              "      <td>0.086275</td>\n",
              "      <td>0.000000</td>\n",
              "      <td>0.329552</td>\n",
              "      <td>0.074118</td>\n",
              "      <td>0.000000</td>\n",
              "      <td>0.259409</td>\n",
              "      <td>0.064990</td>\n",
              "      <td>0.000000</td>\n",
              "      <td>0.251517</td>\n",
              "      <td>0.067904</td>\n",
              "      <td>0.000000</td>\n",
              "      <td>0.261992</td>\n",
              "      <td>0.066227</td>\n",
              "      <td>0.000000</td>\n",
              "      <td>0.280078</td>\n",
              "      <td>0.064392</td>\n",
              "      <td>0.000000</td>\n",
              "      <td>0.276685</td>\n",
              "      <td>0.054902</td>\n",
              "      <td>0.000000</td>\n",
              "      <td>0.257127</td>\n",
              "      <td>0.051686</td>\n",
              "      <td>0.000000</td>\n",
              "      <td>0.234480</td>\n",
              "      <td>0.042324</td>\n",
              "      <td>0.000000</td>\n",
              "      <td>apple</td>\n",
              "    </tr>\n",
              "    <tr>\n",
              "      <th>2</th>\n",
              "      <td>0.434314</td>\n",
              "      <td>0.484314</td>\n",
              "      <td>0.315686</td>\n",
              "      <td>0.450000</td>\n",
              "      <td>0.498039</td>\n",
              "      <td>0.328431</td>\n",
              "      <td>0.458824</td>\n",
              "      <td>0.509804</td>\n",
              "      <td>0.340196</td>\n",
              "      <td>0.463725</td>\n",
              "      <td>0.514706</td>\n",
              "      <td>0.345098</td>\n",
              "      <td>0.464706</td>\n",
              "      <td>0.517647</td>\n",
              "      <td>0.345098</td>\n",
              "      <td>0.466667</td>\n",
              "      <td>0.529412</td>\n",
              "      <td>0.346078</td>\n",
              "      <td>0.466667</td>\n",
              "      <td>0.537255</td>\n",
              "      <td>0.337255</td>\n",
              "      <td>0.466667</td>\n",
              "      <td>0.537255</td>\n",
              "      <td>0.333333</td>\n",
              "      <td>0.472549</td>\n",
              "      <td>0.549020</td>\n",
              "      <td>0.350000</td>\n",
              "      <td>0.472549</td>\n",
              "      <td>0.551961</td>\n",
              "      <td>0.358824</td>\n",
              "      <td>0.464706</td>\n",
              "      <td>0.540196</td>\n",
              "      <td>0.353922</td>\n",
              "      <td>0.450980</td>\n",
              "      <td>0.526471</td>\n",
              "      <td>0.338235</td>\n",
              "      <td>0.456863</td>\n",
              "      <td>0.532353</td>\n",
              "      <td>0.337255</td>\n",
              "      <td>0.455882</td>\n",
              "      <td>...</td>\n",
              "      <td>0.298039</td>\n",
              "      <td>0.415686</td>\n",
              "      <td>0.269608</td>\n",
              "      <td>0.290196</td>\n",
              "      <td>0.403922</td>\n",
              "      <td>0.282353</td>\n",
              "      <td>0.283333</td>\n",
              "      <td>0.388235</td>\n",
              "      <td>0.267647</td>\n",
              "      <td>0.300000</td>\n",
              "      <td>0.366667</td>\n",
              "      <td>0.202941</td>\n",
              "      <td>0.323529</td>\n",
              "      <td>0.384314</td>\n",
              "      <td>0.123529</td>\n",
              "      <td>0.334314</td>\n",
              "      <td>0.397059</td>\n",
              "      <td>0.117647</td>\n",
              "      <td>0.333333</td>\n",
              "      <td>0.396078</td>\n",
              "      <td>0.111765</td>\n",
              "      <td>0.320588</td>\n",
              "      <td>0.385294</td>\n",
              "      <td>0.101961</td>\n",
              "      <td>0.324510</td>\n",
              "      <td>0.389216</td>\n",
              "      <td>0.110784</td>\n",
              "      <td>0.309804</td>\n",
              "      <td>0.372549</td>\n",
              "      <td>0.094118</td>\n",
              "      <td>0.304902</td>\n",
              "      <td>0.366667</td>\n",
              "      <td>0.093137</td>\n",
              "      <td>0.287255</td>\n",
              "      <td>0.345098</td>\n",
              "      <td>0.090196</td>\n",
              "      <td>0.303922</td>\n",
              "      <td>0.356863</td>\n",
              "      <td>0.122549</td>\n",
              "      <td>apple</td>\n",
              "    </tr>\n",
              "    <tr>\n",
              "      <th>3</th>\n",
              "      <td>0.921569</td>\n",
              "      <td>0.925490</td>\n",
              "      <td>0.941176</td>\n",
              "      <td>0.927451</td>\n",
              "      <td>0.931373</td>\n",
              "      <td>0.941176</td>\n",
              "      <td>0.929412</td>\n",
              "      <td>0.933333</td>\n",
              "      <td>0.939216</td>\n",
              "      <td>0.929412</td>\n",
              "      <td>0.933333</td>\n",
              "      <td>0.944118</td>\n",
              "      <td>0.929412</td>\n",
              "      <td>0.933333</td>\n",
              "      <td>0.952941</td>\n",
              "      <td>0.929412</td>\n",
              "      <td>0.933333</td>\n",
              "      <td>0.952941</td>\n",
              "      <td>0.930392</td>\n",
              "      <td>0.933333</td>\n",
              "      <td>0.952941</td>\n",
              "      <td>0.926471</td>\n",
              "      <td>0.925490</td>\n",
              "      <td>0.949020</td>\n",
              "      <td>0.924510</td>\n",
              "      <td>0.926471</td>\n",
              "      <td>0.944118</td>\n",
              "      <td>0.921569</td>\n",
              "      <td>0.927451</td>\n",
              "      <td>0.936275</td>\n",
              "      <td>0.925490</td>\n",
              "      <td>0.931373</td>\n",
              "      <td>0.936275</td>\n",
              "      <td>0.927451</td>\n",
              "      <td>0.934314</td>\n",
              "      <td>0.929412</td>\n",
              "      <td>0.928431</td>\n",
              "      <td>0.936275</td>\n",
              "      <td>0.932353</td>\n",
              "      <td>0.933333</td>\n",
              "      <td>...</td>\n",
              "      <td>0.988235</td>\n",
              "      <td>0.992157</td>\n",
              "      <td>0.968627</td>\n",
              "      <td>0.988235</td>\n",
              "      <td>0.992157</td>\n",
              "      <td>0.968627</td>\n",
              "      <td>0.988235</td>\n",
              "      <td>0.992157</td>\n",
              "      <td>0.968627</td>\n",
              "      <td>0.988235</td>\n",
              "      <td>0.992157</td>\n",
              "      <td>0.968627</td>\n",
              "      <td>0.992157</td>\n",
              "      <td>0.992157</td>\n",
              "      <td>0.968627</td>\n",
              "      <td>0.984314</td>\n",
              "      <td>0.988235</td>\n",
              "      <td>0.964706</td>\n",
              "      <td>0.988235</td>\n",
              "      <td>0.992157</td>\n",
              "      <td>0.968627</td>\n",
              "      <td>0.984314</td>\n",
              "      <td>0.992157</td>\n",
              "      <td>0.964706</td>\n",
              "      <td>0.980392</td>\n",
              "      <td>0.992157</td>\n",
              "      <td>0.964706</td>\n",
              "      <td>0.985294</td>\n",
              "      <td>0.990196</td>\n",
              "      <td>0.965686</td>\n",
              "      <td>0.985294</td>\n",
              "      <td>0.992157</td>\n",
              "      <td>0.967647</td>\n",
              "      <td>0.980392</td>\n",
              "      <td>0.992157</td>\n",
              "      <td>0.952941</td>\n",
              "      <td>0.980392</td>\n",
              "      <td>0.992157</td>\n",
              "      <td>0.956863</td>\n",
              "      <td>apple</td>\n",
              "    </tr>\n",
              "    <tr>\n",
              "      <th>4</th>\n",
              "      <td>0.310784</td>\n",
              "      <td>0.361765</td>\n",
              "      <td>0.182353</td>\n",
              "      <td>0.350980</td>\n",
              "      <td>0.400980</td>\n",
              "      <td>0.262745</td>\n",
              "      <td>0.396078</td>\n",
              "      <td>0.459804</td>\n",
              "      <td>0.350980</td>\n",
              "      <td>0.435294</td>\n",
              "      <td>0.509804</td>\n",
              "      <td>0.395098</td>\n",
              "      <td>0.454902</td>\n",
              "      <td>0.529412</td>\n",
              "      <td>0.413725</td>\n",
              "      <td>0.460784</td>\n",
              "      <td>0.539216</td>\n",
              "      <td>0.433333</td>\n",
              "      <td>0.492157</td>\n",
              "      <td>0.582353</td>\n",
              "      <td>0.465686</td>\n",
              "      <td>0.491176</td>\n",
              "      <td>0.599020</td>\n",
              "      <td>0.454902</td>\n",
              "      <td>0.496078</td>\n",
              "      <td>0.625490</td>\n",
              "      <td>0.460784</td>\n",
              "      <td>0.519608</td>\n",
              "      <td>0.690196</td>\n",
              "      <td>0.500980</td>\n",
              "      <td>0.540196</td>\n",
              "      <td>0.732353</td>\n",
              "      <td>0.515686</td>\n",
              "      <td>0.544118</td>\n",
              "      <td>0.748039</td>\n",
              "      <td>0.489216</td>\n",
              "      <td>0.541176</td>\n",
              "      <td>0.754902</td>\n",
              "      <td>0.484314</td>\n",
              "      <td>0.554902</td>\n",
              "      <td>...</td>\n",
              "      <td>0.577451</td>\n",
              "      <td>0.528431</td>\n",
              "      <td>0.531373</td>\n",
              "      <td>0.574510</td>\n",
              "      <td>0.517647</td>\n",
              "      <td>0.520588</td>\n",
              "      <td>0.588235</td>\n",
              "      <td>0.509804</td>\n",
              "      <td>0.517647</td>\n",
              "      <td>0.567647</td>\n",
              "      <td>0.480392</td>\n",
              "      <td>0.489216</td>\n",
              "      <td>0.564706</td>\n",
              "      <td>0.469608</td>\n",
              "      <td>0.490196</td>\n",
              "      <td>0.545098</td>\n",
              "      <td>0.450000</td>\n",
              "      <td>0.481373</td>\n",
              "      <td>0.542157</td>\n",
              "      <td>0.434314</td>\n",
              "      <td>0.482353</td>\n",
              "      <td>0.540196</td>\n",
              "      <td>0.415686</td>\n",
              "      <td>0.475490</td>\n",
              "      <td>0.521569</td>\n",
              "      <td>0.397059</td>\n",
              "      <td>0.450980</td>\n",
              "      <td>0.518627</td>\n",
              "      <td>0.394118</td>\n",
              "      <td>0.440196</td>\n",
              "      <td>0.519608</td>\n",
              "      <td>0.376471</td>\n",
              "      <td>0.413725</td>\n",
              "      <td>0.487255</td>\n",
              "      <td>0.320588</td>\n",
              "      <td>0.336275</td>\n",
              "      <td>0.494118</td>\n",
              "      <td>0.312745</td>\n",
              "      <td>0.327451</td>\n",
              "      <td>apple</td>\n",
              "    </tr>\n",
              "  </tbody>\n",
              "</table>\n",
              "<p>5 rows × 120001 columns</p>\n",
              "</div>"
            ],
            "text/plain": [
              "          0         1         2         3  ...    119997    119998    119999  Target\n",
              "0  0.945098  0.945098  0.945098  0.945098  ...  0.964706  0.964706  0.964706   apple\n",
              "1  0.626402  0.320520  0.122196  0.623676  ...  0.234480  0.042324  0.000000   apple\n",
              "2  0.434314  0.484314  0.315686  0.450000  ...  0.303922  0.356863  0.122549   apple\n",
              "3  0.921569  0.925490  0.941176  0.927451  ...  0.980392  0.992157  0.956863   apple\n",
              "4  0.310784  0.361765  0.182353  0.350980  ...  0.494118  0.312745  0.327451   apple\n",
              "\n",
              "[5 rows x 120001 columns]"
            ]
          },
          "metadata": {
            "tags": []
          },
          "execution_count": 14
        }
      ]
    },
    {
      "cell_type": "markdown",
      "metadata": {
        "id": "fM18Oj3NGSU_"
      },
      "source": [
        "Input and Output \n"
      ]
    },
    {
      "cell_type": "code",
      "metadata": {
        "id": "wJWwzxrZiMgS"
      },
      "source": [
        "x = apple_banana_df.iloc[:,0:120000].values\n",
        "y = apple_banana_df['Target'].values"
      ],
      "execution_count": 16,
      "outputs": []
    },
    {
      "cell_type": "markdown",
      "metadata": {
        "id": "qbKF1TPAGY5E"
      },
      "source": [
        "Searching Best Parameter"
      ]
    },
    {
      "cell_type": "code",
      "metadata": {
        "id": "BTeveZs0hm1h",
        "outputId": "b3625799-f9dc-4f3f-e114-becb08e5c6b2",
        "colab": {
          "base_uri": "https://localhost:8080/",
          "height": 227
        }
      },
      "source": [
        "from sklearn.model_selection import GridSearchCV\n",
        "from sklearn.neighbors import KNeighborsClassifier\n",
        "z = np.arange(1,39)\n",
        "param = {'n_neighbors':z}\n",
        "model = KNeighborsClassifier()\n",
        "model_grid = GridSearchCV(model,param)\n",
        "model_grid.fit(x,y)"
      ],
      "execution_count": 17,
      "outputs": [
        {
          "output_type": "execute_result",
          "data": {
            "text/plain": [
              "GridSearchCV(cv=None, error_score=nan,\n",
              "             estimator=KNeighborsClassifier(algorithm='auto', leaf_size=30,\n",
              "                                            metric='minkowski',\n",
              "                                            metric_params=None, n_jobs=None,\n",
              "                                            n_neighbors=5, p=2,\n",
              "                                            weights='uniform'),\n",
              "             iid='deprecated', n_jobs=None,\n",
              "             param_grid={'n_neighbors': array([ 1,  2,  3,  4,  5,  6,  7,  8,  9, 10, 11, 12, 13, 14, 15, 16, 17,\n",
              "       18, 19, 20, 21, 22, 23, 24, 25, 26, 27, 28, 29, 30, 31, 32, 33, 34,\n",
              "       35, 36, 37, 38])},\n",
              "             pre_dispatch='2*n_jobs', refit=True, return_train_score=False,\n",
              "             scoring=None, verbose=0)"
            ]
          },
          "metadata": {
            "tags": []
          },
          "execution_count": 17
        }
      ]
    },
    {
      "cell_type": "code",
      "metadata": {
        "id": "GfO3UYvAoBcs",
        "outputId": "6f2b9b88-57c6-469f-ae5f-2ab055949b8f",
        "colab": {
          "base_uri": "https://localhost:8080/",
          "height": 34
        }
      },
      "source": [
        "model_grid.best_params_"
      ],
      "execution_count": 18,
      "outputs": [
        {
          "output_type": "execute_result",
          "data": {
            "text/plain": [
              "{'n_neighbors': 3}"
            ]
          },
          "metadata": {
            "tags": []
          },
          "execution_count": 18
        }
      ]
    },
    {
      "cell_type": "markdown",
      "metadata": {
        "id": "2-h9K_PAGcoT"
      },
      "source": [
        "Train test split"
      ]
    },
    {
      "cell_type": "code",
      "metadata": {
        "id": "GElCWol8ooyu"
      },
      "source": [
        "from sklearn.model_selection import train_test_split\n",
        "x_train,x_test,y_train,y_test = train_test_split(x,y,random_state = 0)\n"
      ],
      "execution_count": 19,
      "outputs": []
    },
    {
      "cell_type": "markdown",
      "metadata": {
        "id": "JAImFLDZGfpG"
      },
      "source": [
        "Preprocessing with MinMaxScaler"
      ]
    },
    {
      "cell_type": "code",
      "metadata": {
        "id": "ZzyYgYVrt5fz"
      },
      "source": [
        "from sklearn.preprocessing import MinMaxScaler\n",
        "scaler = MinMaxScaler()\n",
        "x_train = scaler.fit_transform(x_train)\n",
        "x_test = scaler.transform(x_test)\n"
      ],
      "execution_count": 24,
      "outputs": []
    },
    {
      "cell_type": "markdown",
      "metadata": {
        "id": "iVVKRO52Grro"
      },
      "source": [
        "Classification of images"
      ]
    },
    {
      "cell_type": "code",
      "metadata": {
        "id": "fGQFpw0Ygcwn",
        "outputId": "9895e632-66be-4bb0-f90b-a8272b94f665",
        "colab": {
          "base_uri": "https://localhost:8080/",
          "height": 69
        }
      },
      "source": [
        "from sklearn.neighbors import KNeighborsClassifier\n",
        "\n",
        "model = KNeighborsClassifier(n_neighbors= 3 ,metric ='euclidean')\n",
        "\n",
        "model.fit(x_train,y_train)"
      ],
      "execution_count": 25,
      "outputs": [
        {
          "output_type": "execute_result",
          "data": {
            "text/plain": [
              "KNeighborsClassifier(algorithm='auto', leaf_size=30, metric='euclidean',\n",
              "                     metric_params=None, n_jobs=None, n_neighbors=3, p=2,\n",
              "                     weights='uniform')"
            ]
          },
          "metadata": {
            "tags": []
          },
          "execution_count": 25
        }
      ]
    },
    {
      "cell_type": "markdown",
      "metadata": {
        "id": "b_zJlE25GzwL"
      },
      "source": [
        "Predicting\n"
      ]
    },
    {
      "cell_type": "code",
      "metadata": {
        "id": "Fkv4n6vRsQPQ"
      },
      "source": [
        "y_pred = model.predict(x_test)"
      ],
      "execution_count": 26,
      "outputs": []
    },
    {
      "cell_type": "markdown",
      "metadata": {
        "id": "HmumqlS5G991"
      },
      "source": [
        "Evaluation"
      ]
    },
    {
      "cell_type": "code",
      "metadata": {
        "id": "k3n0kkamsnXf",
        "outputId": "c7568c79-9857-44b8-85ad-9966fe1eee73",
        "colab": {
          "base_uri": "https://localhost:8080/",
          "height": 34
        }
      },
      "source": [
        "from sklearn.metrics import accuracy_score,confusion_matrix\n",
        "accuracy_score(y_pred,y_test)"
      ],
      "execution_count": 27,
      "outputs": [
        {
          "output_type": "execute_result",
          "data": {
            "text/plain": [
              "0.8"
            ]
          },
          "metadata": {
            "tags": []
          },
          "execution_count": 27
        }
      ]
    },
    {
      "cell_type": "code",
      "metadata": {
        "id": "wtG-haui7hUV",
        "outputId": "ccf33767-8f59-4ee2-ff74-15d1550c0e9f",
        "colab": {
          "base_uri": "https://localhost:8080/",
          "height": 52
        }
      },
      "source": [
        "confusion_matrix(y_pred,y_test)"
      ],
      "execution_count": 28,
      "outputs": [
        {
          "output_type": "execute_result",
          "data": {
            "text/plain": [
              "array([[5, 1],\n",
              "       [2, 7]])"
            ]
          },
          "metadata": {
            "tags": []
          },
          "execution_count": 28
        }
      ]
    },
    {
      "cell_type": "markdown",
      "metadata": {
        "id": "6_ZRzAq7tQdM"
      },
      "source": [
        "SEARCH NEW IMAGE"
      ]
    },
    {
      "cell_type": "code",
      "metadata": {
        "id": "Kj-dJHjWpeDe",
        "outputId": "0d305d1d-4f0a-4408-997b-9e9a2f6343a6",
        "colab": {
          "base_uri": "https://localhost:8080/",
          "height": 122
        }
      },
      "source": [
        "again = 'y'\n",
        "while again =='y':\n",
        "  new_image = input('Paste new image path')\n",
        "  new_read = imread(new_image)\n",
        "  new_resize = resize(new_read,(200,200,3))\n",
        "  new_flat = new_resize.flatten()\n",
        "\n",
        "  new_flat = scaler.transform([new_flat])\n",
        "  output = model.predict(new_flat)\n",
        "  print('This is ', output)\n",
        "  again = input('Press y for another image n to exit :' )\n"
      ],
      "execution_count": 45,
      "outputs": [
        {
          "output_type": "stream",
          "text": [
            "Paste new image path/content/Banana.jpg\n",
            "This is  ['banana']\n",
            "Press y for another image n to exit :y\n",
            "Paste new image path/content/Apple.jpg\n",
            "This is  ['apple']\n",
            "Press y for another image n to exit :n\n"
          ],
          "name": "stdout"
        }
      ]
    },
    {
      "cell_type": "code",
      "metadata": {
        "id": "hsBvOKEEJkm3"
      },
      "source": [
        ""
      ],
      "execution_count": null,
      "outputs": []
    }
  ]
}